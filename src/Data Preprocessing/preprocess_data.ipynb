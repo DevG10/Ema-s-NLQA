{
 "cells": [
  {
   "cell_type": "markdown",
   "metadata": {},
   "source": [
    "# Data Preprocessing"
   ]
  },
  {
   "cell_type": "markdown",
   "metadata": {},
   "source": [
    "## Loading the data from the directory and creating one cleaning function"
   ]
  },
  {
   "cell_type": "code",
   "execution_count": 19,
   "metadata": {},
   "outputs": [
    {
     "name": "stderr",
     "output_type": "stream",
     "text": [
      "[nltk_data] Downloading package punkt to\n",
      "[nltk_data]     /teamspace/studios/this_studio/nltk_data...\n",
      "[nltk_data]   Package punkt is already up-to-date!\n",
      "[nltk_data] Downloading package stopwords to\n",
      "[nltk_data]     /teamspace/studios/this_studio/nltk_data...\n",
      "[nltk_data]   Package stopwords is already up-to-date!\n",
      "[nltk_data] Downloading package wordnet to\n",
      "[nltk_data]     /teamspace/studios/this_studio/nltk_data...\n",
      "[nltk_data]   Package wordnet is already up-to-date!\n"
     ]
    }
   ],
   "source": [
    "import os\n",
    "import nltk\n",
    "import re\n",
    "from nltk.corpus import stopwords\n",
    "from nltk.tokenize import word_tokenize\n",
    "from nltk.stem import WordNetLemmatizer\n",
    "from langchain.text_splitter import RecursiveCharacterTextSplitter\n",
    "\n",
    "nltk.download('punkt')\n",
    "nltk.download('stopwords')\n",
    "nltk.download('wordnet')\n",
    "\n",
    "def read_file(file):\n",
    "    with open(file, 'r') as f:\n",
    "        return f.read()\n",
    "\n",
    "def preprocess_text(text):\n",
    "    text_splitter = RecursiveCharacterTextSplitter(chunk_size=1000, chunk_overlap=200)\n",
    "    text_chunks = text_splitter.split_text(text)\n",
    "    text = ' '.join(text_chunks)\n",
    "    text = re.sub(r'[^a-zA-Z0-9\\s]', '', text)\n",
    "    text = text.lower()\n",
    "    tokens = word_tokenize(text)\n",
    "    stop_words = set(stopwords.words('english'))\n",
    "    tokens = [word for word in tokens if word not in stop_words]\n",
    "    lemmatizer = WordNetLemmatizer()\n",
    "    tokens = [lemmatizer.lemmatize(token) for token in tokens]\n",
    "    preprocessed_text = ' '.join(tokens)\n",
    "    \n",
    "    return preprocessed_text\n"
   ]
  },
  {
   "cell_type": "code",
   "execution_count": 20,
   "metadata": {},
   "outputs": [],
   "source": [
    "introductory_notes = read_file(\"Data/introductory_notes.txt\")\n",
    "lecture_notes = read_file(\"Data/lecture_notes.txt\")\n",
    "pdf_texts = read_file(\"Data/pdf_extracted_texts.txt\")\n",
    "\n",
    "preprocessed_introductory_notes = preprocess_text(introductory_notes)\n",
    "preprocessed_lecture_notes = preprocess_text(lecture_notes)\n",
    "preprocessed_pdf_texts = preprocess_text(pdf_texts)\n",
    "\n",
    "texts = [preprocessed_introductory_notes, preprocessed_lecture_notes, preprocessed_pdf_texts]"
   ]
  },
  {
   "cell_type": "code",
   "execution_count": 21,
   "metadata": {},
   "outputs": [],
   "source": [
    "import pandas as pd\n",
    "\n",
    "llm_milestone_df = pd.read_csv(\"Data/llm_milestone.csv\")"
   ]
  },
  {
   "cell_type": "code",
   "execution_count": 22,
   "metadata": {},
   "outputs": [],
   "source": [
    "llm_texts = []\n",
    "for index, row in llm_milestone_df.iterrows():\n",
    "    llm_text = f\"Model: {row['Model']}, Year: {row['Year']}, Institution: {row['Institution']}, \" \\\n",
    "               f\"Paper Name: {row['Paper Name']}, Authors : {row['Authors']}, \" \\\n",
    "               f\"Abstract: {row['Abstract']}\"\n",
    "    llm_text = preprocess_text(llm_text)\n",
    "    llm_texts.append(llm_text)"
   ]
  },
  {
   "cell_type": "markdown",
   "metadata": {},
   "source": [
    "## Calculating Embeddings and preparing source files"
   ]
  },
  {
   "cell_type": "code",
   "execution_count": 30,
   "metadata": {},
   "outputs": [
    {
     "name": "stderr",
     "output_type": "stream",
     "text": [
      "/home/zeus/miniconda3/envs/cloudspace/lib/python3.10/site-packages/huggingface_hub/file_download.py:1132: FutureWarning: `resume_download` is deprecated and will be removed in version 1.0.0. Downloads always resume when possible. If you want to force a new download, use `force_download=True`.\n",
      "  warnings.warn(\n"
     ]
    }
   ],
   "source": [
    "from sentence_transformers import SentenceTransformer\n",
    "from langchain_community.embeddings import HuggingFaceEmbeddings\n",
    "import numpy as np\n",
    "from langchain_community.vectorstores import FAISS\n",
    "\n",
    "metadata = [\n",
    "    {'source' : 'Introductory Notes'},\n",
    "    {'source' : 'Standford Security Lecture'},\n",
    "    {'source' : 'Standford Training Lecture'},\n",
    "    {\"source\": \"PDF Extracted Text MIT's Transformer Chapter\"},\n",
    "    {'source' : 'PDF Extracted Text Standford LLM Chapter'},\n",
    "    {'source' : 'PDF Extracted Text Princeton LLM Chapter'},\n",
    "    {'source' : 'PDF Extracted Text Standford LLM and Applications Chapter'},\n",
    "    {'source' : 'LLM Milestone CSV File Model Transformer'},\n",
    "    {'source' : 'LLM Milestone CSV File Model GPT 1.0'},\n",
    "    {'source' : 'LLM Milestone CSV File Model BERT'},\n",
    "    {'source' : 'LLM Milestone CSV File Model GPT 2.0'},\n",
    "    {'source' : 'LLM Milestone CSV File Model T5'},\n",
    "    {'source' : 'LLM Milestone CSV File Model GPT 3.0'}\n",
    "]\n",
    "all_texts = texts + llm_texts\n",
    "embeddings = HuggingFaceEmbeddings(model_name=\"sentence-transformers/all-MiniLM-L6-v2\")\n",
    "vector_store = FAISS.from_texts(all_texts, embeddings, metadatas=metadata)\n",
    "vector_store.save_local(\"Data/faiss_index\")"
   ]
  },
  {
   "cell_type": "markdown",
   "metadata": {},
   "source": [
    "### Saving preprocessed texts"
   ]
  },
  {
   "cell_type": "code",
   "execution_count": 31,
   "metadata": {},
   "outputs": [],
   "source": [
    "with open(\"Data/preprocessed_introductory_notes.txt\", \"w\") as f:\n",
    "    f.write(preprocessed_introductory_notes)\n",
    "\n",
    "with open(\"Data/preprocessed_lecture_notes.txt\", \"w\") as f:\n",
    "    f.write(preprocessed_lecture_notes)\n",
    "\n",
    "with open(\"Data/preprocessed_pdf_notes.txt\", \"w\") as f:\n",
    "    f.write(preprocessed_pdf_texts)"
   ]
  }
 ],
 "metadata": {
  "language_info": {
   "name": "python"
  }
 },
 "nbformat": 4,
 "nbformat_minor": 2
}
